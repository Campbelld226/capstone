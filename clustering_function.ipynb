{
 "cells": [
  {
   "cell_type": "code",
   "execution_count": 1,
   "metadata": {},
   "outputs": [],
   "source": [
    "import pandas as pd\n",
    "import numpy as np\n",
    "import seaborn as sns\n",
    "import matplotlib.pyplot as plt\n",
    "\n",
    "from sklearn.preprocessing import Normalizer\n",
    "from sklearn.preprocessing import StandardScaler\n",
    "from sklearn.preprocessing import MinMaxScaler"
   ]
  },
  {
   "cell_type": "markdown",
   "metadata": {},
   "source": [
    "# Importing training data"
   ]
  },
  {
   "cell_type": "code",
   "execution_count": 2,
   "metadata": {},
   "outputs": [
    {
     "name": "stdout",
     "output_type": "stream",
     "text": [
      "TRAIN DATA:\n",
      "             epoch    depth    error  transit\n",
      "0    2.457988e+06 -1.30186  0.00192        0\n",
      "1    2.457988e+06 -1.30184  0.00197        0\n",
      "2    2.457988e+06 -1.30193  0.00203        0\n",
      "3    2.457988e+06 -1.30466  0.00201        0\n",
      "4    2.457988e+06 -1.30791  0.00214        0\n",
      "..            ...      ...      ...      ...\n",
      "114  2.457989e+06 -1.29765  0.00245        0\n",
      "115  2.457989e+06 -1.29141  0.00253        0\n",
      "116  2.457989e+06 -1.29071  0.00270        0\n",
      "117  2.457989e+06 -1.28883  0.00268        0\n",
      "118  2.457989e+06 -1.29269  0.00254        0\n",
      "\n",
      "[119 rows x 4 columns]\n",
      "TEST DATA:\n",
      "            epoch    depth    error  transit\n",
      "0   2.457920e+06  0.25027  0.00136        0\n",
      "1   2.457920e+06  0.24401  0.00151        0\n",
      "2   2.457920e+06  0.24949  0.00115        0\n",
      "3   2.457920e+06  0.24237  0.00135        0\n",
      "4   2.457920e+06  0.24186  0.00218        0\n",
      "..           ...      ...      ...      ...\n",
      "76  2.457921e+06  0.24834  0.00153        0\n",
      "77  2.457921e+06  0.24393  0.00160        0\n",
      "78  2.457921e+06  0.24461  0.00166        0\n",
      "79  2.457921e+06  0.24682  0.00175        0\n",
      "80  2.457921e+06  0.24636  0.00189        0\n",
      "\n",
      "[81 rows x 4 columns]\n"
     ]
    }
   ],
   "source": [
    "train_data = pd.read_csv('test/CoRoT-2b_1.6.txt')\n",
    "print('TRAIN DATA:\\n', train_data)\n",
    "test_data = pd.read_csv('test/CoRoT-2b_1.7.txt')\n",
    "print('TEST DATA:\\n', test_data)"
   ]
  },
  {
   "cell_type": "code",
   "execution_count": 3,
   "metadata": {},
   "outputs": [],
   "source": [
    "def get_cluster(train_data):\n",
    "\n",
    "    # Create proportional feature\n",
    "    train_data['depth_prop'] = train_data['depth'] / train_data['depth'].values[0]\n",
    "\n",
    "    # Get Cumulative Differences\n",
    "    train_data['depth_prop_diff'] = train_data['depth_prop'] - train_data['depth_prop'].shift(-3)\n",
    "\n",
    "    # Create 5-period sma\n",
    "    train_data['depth_prop_sma5'] = train_data['depth_prop'].rolling(window=5).mean()\n",
    "\n",
    "    train_data['depth_prop']\n",
    "    print(train_data['depth_prop'].shape)\n",
    "\n",
    "\n",
    "    # Apply kmeans\n",
    "    from sklearn.cluster import KMeans\n",
    "\n",
    "    from sklearn.cluster import AgglomerativeClustering\n",
    "\n",
    "    # Select non-nan\n",
    "    mask = ~train_data.isna()\n",
    "    mask = mask.all(axis=1)\n",
    "\n",
    "    train_data = train_data.loc[mask]\n",
    "\n",
    "    # MaxMin Scaling between 0->1\n",
    "    X = train_data\n",
    "    norm = MinMaxScaler()\n",
    "    X = norm.fit(X).transform(X)\n",
    "\n",
    "    # Applying Unsupervised Learning for Labels\n",
    "    kmeans = AgglomerativeClustering(n_clusters=n_clusters).fit(X)\n",
    "\n",
    "\n",
    "    # Dropping nans from features\n",
    "    if kmeans.labels_.shape[0] != train_data.shape[0]:\n",
    "        train_data = train_data.loc[mask]\n",
    "        kmeans.labels_ = kmeans.labels_[mask]\n",
    "        kmeans.labels_ = kmeans.labels_[mask]\n",
    "\n",
    "    # Settings Labels as color\n",
    "    train_data['labels'] = kmeans.labels_\n",
    "    color_map = {'0.0':'red',\n",
    "                '1.0':'blue',\n",
    "                '2.0':'green',\n",
    "                '3.0':'gray',\n",
    "                '4.0':'yellow'}\n",
    "    train_data['color'] = train_data.apply(lambda x: color_map[str(x['labels'])] ,axis=1)\n",
    "\n",
    "    cmap = plt.get_cmap(\"magma\")\n",
    "    sns.scatterplot(x=range(len(train_data['depth'])),\n",
    "                y=train_data['depth']*-1,hue=train_data['labels'])\n",
    "    \n",
    "    plt.show()\n",
    "\n",
    "\n"
   ]
  },
  {
   "cell_type": "code",
   "execution_count": 5,
   "metadata": {},
   "outputs": [
    {
     "name": "stdout",
     "output_type": "stream",
     "text": [
      "(81,)\n"
     ]
    },
    {
     "name": "stderr",
     "output_type": "stream",
     "text": [
      "/home/dylan/anaconda3/lib/python3.7/site-packages/ipykernel_launcher.py:43: SettingWithCopyWarning: \n",
      "A value is trying to be set on a copy of a slice from a DataFrame.\n",
      "Try using .loc[row_indexer,col_indexer] = value instead\n",
      "\n",
      "See the caveats in the documentation: http://pandas.pydata.org/pandas-docs/stable/user_guide/indexing.html#returning-a-view-versus-a-copy\n",
      "/home/dylan/anaconda3/lib/python3.7/site-packages/ipykernel_launcher.py:49: SettingWithCopyWarning: \n",
      "A value is trying to be set on a copy of a slice from a DataFrame.\n",
      "Try using .loc[row_indexer,col_indexer] = value instead\n",
      "\n",
      "See the caveats in the documentation: http://pandas.pydata.org/pandas-docs/stable/user_guide/indexing.html#returning-a-view-versus-a-copy\n"
     ]
    },
    {
     "data": {
      "image/png": "[encoded data removed]",
      "text/plain": [
       "<Figure size 432x288 with 1 Axes>"
      ]
     },
     "metadata": {
      "needs_background": "light"
     },
     "output_type": "display_data"
    }
   ],
   "source": [
    "get_cluster(test_data)"
   ]
  },
  {
   "cell_type": "code",
   "execution_count": null,
   "metadata": {},
   "outputs": [],
   "source": []
  }
 ],
 "metadata": {
  "kernelspec": {
   "display_name": "Python 3",
   "language": "python",
   "name": "python3"
  },
  "language_info": {
   "codemirror_mode": {
    "name": "ipython",
    "version": 3
   },
   "file_extension": ".py",
   "mimetype": "text/x-python",
   "name": "python",
   "nbconvert_exporter": "python",
   "pygments_lexer": "ipython3",
   "version": "3.7.4"
  }
 },
 "nbformat": 4,
 "nbformat_minor": 2
}
